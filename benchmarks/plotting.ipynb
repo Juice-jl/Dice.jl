{
 "cells": [
  {
   "cell_type": "code",
   "execution_count": 2,
   "metadata": {},
   "outputs": [],
   "source": [
    "import numpy as np\n",
    "import math\n",
    "import sys\n",
    "import statistics\n",
    "import csv\n"
   ]
  },
  {
   "cell_type": "markdown",
   "metadata": {},
   "source": [
    "Ground Truth"
   ]
  },
  {
   "cell_type": "code",
   "execution_count": 3,
   "metadata": {},
   "outputs": [],
   "source": [
    "gt = {}\n",
    "benchmarks = [\"pi\", \"GPA\", \"tug_of_war\", \"altermu2\", \"normal_mixture\", \"spacex\", \"zeroone\", \"weekend\", \"conjugate_gaussians\"]\n",
    "\n",
    "gt[\"pi\"] = (5 - math.pi)/4\n",
    "gt[\"GPA\"] = 0.6115107913669064\n",
    "gt[\"tug_of_war\"] = 0.5\n",
    "gt[\"altermu2\"] = 0.1550617483\n",
    "gt[\"normal_mixture\"] = {\"theta\": 12/42, \"mu1\": -9.702359975571609, \"mu2\": 9.657948191704119}\n",
    "gt[\"spacex\"] = 30.00463476991299\n",
    "gt[\"zeroone\"] = {\"w1\": 0.0565823032448, \"w2\": 3.68882559517}\n",
    "gt[\"weekend\"] = 0.3742061754266954\n",
    "gt[\"conjugate_gaussians\"] = 1.0\n",
    "gt[\"coinBias\"] = 5/12\n",
    "gt[\"addFun_sum\"] = 0.0\n",
    "gt[\"clickGraph\"] = 0.614154185582757\n",
    "gt[\"addFun_max\"] = 1/math.sqrt(math.pi)\n",
    "gt[\"clinicalTrial2\"] = 2/7\n",
    "gt[\"clinicalTrial1\"] = 1 - 78460907384924307566949191554862076141244676160/94572409612368043294199619316675018741649913883\n",
    "gt[\"trueskill\"] = 0.5\n",
    "\n"
   ]
  },
  {
   "cell_type": "markdown",
   "metadata": {},
   "source": [
    "Functions"
   ]
  },
  {
   "cell_type": "code",
   "execution_count": 4,
   "metadata": {},
   "outputs": [],
   "source": [
    "def AQUA_accuracy(benchmark_name, result_file, gt):\n",
    "    file_handle = open(result_file, \"r\")\n",
    "    lines = file_handle.readlines()\n",
    "\n",
    "    min_error = 10000000    \n",
    "    for i in lines:\n",
    "        cur = float(i[:-1])\n",
    "        if abs(gt - cur) < min_error:\n",
    "            min_error = abs(gt - cur)\n",
    "    return min_error\n",
    "\n",
    "def Dice_accuracy(benchmark_name, result_file, gt, position, flag):\n",
    "    file_handle = open(result_file, \"r\")\n",
    "    lines = file_handle.readlines()\n",
    "    \n",
    "    min_error = 100000000\n",
    "    for i in lines:\n",
    "        cur = float(i.split(\",\")[position])\n",
    "        if (flag == None):\n",
    "            if abs(gt - cur) < min_error:\n",
    "                min_error = abs(gt - cur)\n",
    "        elif (float(i.split(\",\")[flag[1]]) == flag[0]):\n",
    "            if abs(gt - cur) < min_error:\n",
    "                min_error = abs(gt - cur)\n",
    "        else:\n",
    "            continue\n",
    "    return min_error\n",
    "\n",
    "def WebPPL_accuracy(benchmark, method, gt, upperlimit, suffix=\"\"):\n",
    "    min_error = 1000000000\n",
    "    a = 0\n",
    "    for number in range(1,upperlimit+1):\n",
    "    # for number in range(24, 25):\n",
    "        ans = []\n",
    "        file_handle = open(\"/space/poorvagarg/webppl_benchmarks/\" + benchmark + \"/output\" + suffix + \"_\" + method + \"_\" + str(number) + \".txt\", \"r\")\n",
    "        lines = file_handle.readlines()\n",
    "        # lines = lines[0:10]\n",
    "        for i in lines:\n",
    "            # print(i)\n",
    "            if i.split() == []:\n",
    "                continue\n",
    "            if i.split()[0] == \"{\":\n",
    "                # print(float(i.split()[2][:-1]))\n",
    "                ans.append(abs(float(i.split()[2][:-1]) - gt))\n",
    "            else:\n",
    "                continue\n",
    "        if ans == []:\n",
    "            # print(number)\n",
    "            continue\n",
    "        \n",
    "        cur = statistics.mean(ans)\n",
    "        # print(cur, gt)\n",
    "        if (cur < min_error):\n",
    "            a = number\n",
    "            min_error = cur\n",
    "    print(number)\n",
    "    return min_error\n",
    "\n",
    "def write_csv(data):\n",
    "    with open(\"/space/poorvagarg/.julia/dev/Dice/benchmarks/results.csv\", \"w\") as file:\n",
    "        writer = csv.writer(file)\n",
    "        writer.writerow(data)\n",
    "\n",
    "\n",
    "\n",
    "\n",
    "\n",
    "\n",
    "\n"
   ]
  },
  {
   "cell_type": "markdown",
   "metadata": {},
   "source": [
    "Pi"
   ]
  },
  {
   "cell_type": "code",
   "execution_count": 6,
   "metadata": {},
   "outputs": [
    {
     "name": "stdout",
     "output_type": "stream",
     "text": [
      "40\n",
      "40\n"
     ]
    }
   ],
   "source": [
    "aqua_res = \"Not supported\"\n",
    "dice_res = Dice_accuracy(\"pi\", \"/space/poorvagarg/.julia/dev/Dice/benchmarks/pi/results2.txt\", gt[\"pi\"], 1, None)\n",
    "webppl_rej_res = WebPPL_accuracy(\"pi\", \"rejection\", gt[\"pi\"], 40)\n",
    "webppl_mcmc_res = WebPPL_accuracy(\"pi\", \"MCMC\", gt[\"pi\"], 40)\n",
    "psi_res = \"remaining integrals\"\n",
    "\n",
    "write_csv([\"pi\", aqua_res, dice_res, webppl_rej_res, webppl_mcmc_res, psi_res])\n",
    "# aqua_res, dice_res, webppl_rej_res, webppl_mcmc_res"
   ]
  },
  {
   "cell_type": "markdown",
   "metadata": {},
   "source": [
    "GPA"
   ]
  },
  {
   "cell_type": "code",
   "execution_count": 11,
   "metadata": {},
   "outputs": [
    {
     "name": "stdout",
     "output_type": "stream",
     "text": [
      "11\n",
      "14\n"
     ]
    },
    {
     "data": {
      "text/plain": [
       "(0.3615107913668967,\n",
       " 2.220446049250313e-16,\n",
       " 0.009440104166666666,\n",
       " 0.005265789144252787)"
      ]
     },
     "execution_count": 11,
     "metadata": {},
     "output_type": "execute_result"
    }
   ],
   "source": [
    "aqua_res = AQUA_accuracy(\"GPA\", \"/space/poorvagarg/PLDI2023/AQUA/benchmarks/new/GPA/results.txt\", gt[\"GPA\"])\n",
    "dice_res = Dice_accuracy(\"GPA\", \"/space/poorvagarg/.julia/dev/Dice/benchmarks/GPA/results.txt\", gt[\"GPA\"], 2, None)\n",
    "webppl_rej_res = WebPPL_accuracy(\"GPA\", \"rejection\", gt[\"GPA\"], 11)\n",
    "webppl_mcmc_res = WebPPL_accuracy(\"GPA\", \"MCMC\", gt[\"GPA\"], 14)\n",
    "aqua_res, dice_res, webppl_rej_res, webppl_mcmc_res"
   ]
  },
  {
   "cell_type": "markdown",
   "metadata": {},
   "source": [
    "Tug of War"
   ]
  },
  {
   "cell_type": "code",
   "execution_count": 12,
   "metadata": {},
   "outputs": [
    {
     "name": "stdout",
     "output_type": "stream",
     "text": [
      "21\n",
      "25\n"
     ]
    },
    {
     "data": {
      "text/plain": [
       "('Not supported',\n",
       " 4.4728484305256444e-08,\n",
       " 0.0002063751220703125,\n",
       " 0.0007162117041074312)"
      ]
     },
     "execution_count": 12,
     "metadata": {},
     "output_type": "execute_result"
    }
   ],
   "source": [
    "aqua_res = \"Not supported\"\n",
    "dice_res = Dice_accuracy(\"tug_of_war\", \"/space/poorvagarg/.julia/dev/Dice/benchmarks/tug_of_war/results.txt\", gt[\"tug_of_war\"], 2, None)\n",
    "webppl_rej_res = WebPPL_accuracy(\"tug_of_war\", \"rejection\", gt[\"tug_of_war\"], 21)\n",
    "webppl_mcmc_res = WebPPL_accuracy(\"tug_of_war\", \"MCMC\", gt[\"tug_of_war\"], 25)\n",
    "aqua_res, dice_res, webppl_rej_res, webppl_mcmc_res"
   ]
  },
  {
   "cell_type": "markdown",
   "metadata": {},
   "source": [
    "Altermu2"
   ]
  },
  {
   "cell_type": "code",
   "execution_count": 13,
   "metadata": {},
   "outputs": [
    {
     "name": "stdout",
     "output_type": "stream",
     "text": [
      "24\n"
     ]
    },
    {
     "data": {
      "text/plain": [
       "(3.411889291371484e-07, 2.0128491451942843e-06, 'timeout', 0.40914965786566193)"
      ]
     },
     "execution_count": 13,
     "metadata": {},
     "output_type": "execute_result"
    }
   ],
   "source": [
    "aqua_res = AQUA_accuracy(\"altermu2\", \"/space/poorvagarg/PLDI2023/AQUA/benchmarks/stan_bench/altermu2/results.txt\", gt[\"altermu2\"])\n",
    "dice_res = Dice_accuracy(\"altermu2\", \"/space/poorvagarg/.julia/dev/Dice/benchmarks/altermu2/results.txt\", gt[\"altermu2\"], 2, None)\n",
    "webppl_rej_res = \"timeout\"\n",
    "webppl_mcmc_res = WebPPL_accuracy(\"altermu2\", \"MCMC\", gt[\"altermu2\"], 24)\n",
    "aqua_res, dice_res, webppl_rej_res, webppl_mcmc_res"
   ]
  },
  {
   "cell_type": "markdown",
   "metadata": {},
   "source": [
    "Normal Mixture"
   ]
  },
  {
   "cell_type": "code",
   "execution_count": 26,
   "metadata": {},
   "outputs": [
    {
     "name": "stdout",
     "output_type": "stream",
     "text": [
      "1\n",
      "1\n",
      "1\n",
      "25\n",
      "25\n",
      "21\n"
     ]
    },
    {
     "data": {
      "text/plain": [
       "({'theta': 1000000000, 'mu1': 1000000000, 'mu2': 1000000000},\n",
       " {'theta': 0.0002516130524031768,\n",
       "  'mu1': 0.0012866931196803932,\n",
       "  'mu2': 0.0012930638313886078},\n",
       " {'theta': 4.130437008531551e-07,\n",
       "  'mu1': 7.55332333923775e-06,\n",
       "  'mu2': 8.65302144426039e-06},\n",
       " {'theta': 5.491552566339042e-05,\n",
       "  'mu1': 0.002090815270454627,\n",
       "  'mu2': 0.002905689533728051})"
      ]
     },
     "execution_count": 26,
     "metadata": {},
     "output_type": "execute_result"
    }
   ],
   "source": [
    "aqua_res = {}\n",
    "aqua_res[\"theta\"] = AQUA_accuracy(\"normal_mixture\", \"/space/poorvagarg/PLDI2023/AQUA/benchmarks/stan_bench/normal_mixture/results.txt\", gt[\"normal_mixture\"][\"theta\"])\n",
    "aqua_res[\"mu1\"] = AQUA_accuracy(\"normal_mixture\", \"/space/poorvagarg/PLDI2023/AQUA/benchmarks/stan_bench/normal_mixture/results1.txt\", gt[\"normal_mixture\"][\"mu1\"])\n",
    "aqua_res[\"mu2\"] = AQUA_accuracy(\"normal_mixture\", \"/space/poorvagarg/PLDI2023/AQUA/benchmarks/stan_bench/normal_mixture/results2.txt\", gt[\"normal_mixture\"][\"mu2\"])\n",
    "\n",
    "dice_res = {}\n",
    "dice_res[\"theta\"] = Dice_accuracy(\"normal_mixture\", \"/space/poorvagarg/.julia/dev/Dice/benchmarks/normal_mixture/results.txt\", gt[\"normal_mixture\"][\"theta\"], 2, (1, 3))\n",
    "dice_res[\"mu1\"] = Dice_accuracy(\"normal_mixture\", \"/space/poorvagarg/.julia/dev/Dice/benchmarks/normal_mixture/results.txt\", gt[\"normal_mixture\"][\"mu1\"], 2, (2, 3))\n",
    "dice_res[\"mu2\"] = Dice_accuracy(\"normal_mixture\", \"/space/poorvagarg/.julia/dev/Dice/benchmarks/normal_mixture/results.txt\", gt[\"normal_mixture\"][\"mu2\"], 2, (3, 3))\n",
    "\n",
    "webppl_rej_res = {}\n",
    "webppl_rej_res[\"theta\"] = WebPPL_accuracy(\"normal_mixture\", \"rejection\", gt[\"normal_mixture\"][\"theta\"], 1)\n",
    "webppl_rej_res[\"mu1\"] = WebPPL_accuracy(\"normal_mixture\", \"rejection\", gt[\"normal_mixture\"][\"mu1\"], 1, \"2\")\n",
    "webppl_rej_res[\"mu2\"] = WebPPL_accuracy(\"normal_mixture\", \"rejection\", gt[\"normal_mixture\"][\"mu2\"], 1, \"3\")\n",
    "\n",
    "webppl_mcmc_res = {}\n",
    "webppl_mcmc_res[\"theta\"] = WebPPL_accuracy(\"normal_mixture\", \"MCMC\", gt[\"normal_mixture\"][\"theta\"], 25)\n",
    "webppl_mcmc_res[\"mu1\"] = WebPPL_accuracy(\"normal_mixture\", \"MCMC\", gt[\"normal_mixture\"][\"mu1\"], 25, \"2\")\n",
    "webppl_mcmc_res[\"mu2\"] = WebPPL_accuracy(\"normal_mixture\", \"MCMC\", gt[\"normal_mixture\"][\"mu2\"], 21, \"3\")\n",
    "# webppl_mcmc_res = WebPPL_accuracy(\"altermu2\", \"MCMC\", gt[\"altermu2\"], 24)\n",
    "webppl_rej_res, webppl_mcmc_res, aqua_res, dice_res"
   ]
  },
  {
   "cell_type": "markdown",
   "metadata": {},
   "source": [
    "Spacex"
   ]
  },
  {
   "cell_type": "code",
   "execution_count": 10,
   "metadata": {},
   "outputs": [
    {
     "name": "stdout",
     "output_type": "stream",
     "text": [
      "12\n",
      "12\n"
     ]
    },
    {
     "data": {
      "text/plain": [
       "('Not supported', 0.0006936783206441532, 1000000000, 1000000000)"
      ]
     },
     "execution_count": 10,
     "metadata": {},
     "output_type": "execute_result"
    }
   ],
   "source": [
    "aqua_res = \"Not supported\"\n",
    "dice_res = Dice_accuracy(\"spacex\", \"/space/poorvagarg/.julia/dev/Dice/benchmarks/spacex/results.txt\", gt[\"spacex\"], 2, None)\n",
    "webppl_rej_res = WebPPL_accuracy(\"spacex\", \"rejection\", gt[\"spacex\"], 12)\n",
    "webppl_mcmc_res = WebPPL_accuracy(\"spacex\", \"MCMC\", gt[\"spacex\"], 12)\n",
    "aqua_res, dice_res, webppl_rej_res, webppl_mcmc_res\n"
   ]
  },
  {
   "cell_type": "markdown",
   "metadata": {},
   "source": [
    "Weekend"
   ]
  },
  {
   "cell_type": "code",
   "execution_count": 24,
   "metadata": {},
   "outputs": [
    {
     "name": "stdout",
     "output_type": "stream",
     "text": [
      "40\n",
      "40\n"
     ]
    },
    {
     "data": {
      "text/plain": [
       "(0.0042117933233046245, 0.013218838524197482)"
      ]
     },
     "execution_count": 24,
     "metadata": {},
     "output_type": "execute_result"
    }
   ],
   "source": [
    "aqua_res = \"Not supported\"\n",
    "dice_res = Dice_accuracy(\"weekend\", \"/space/poorvagarg/.julia/dev/Dice/benchmarks/weekend/results.txt\", gt[\"weekend\"], 2, None)\n",
    "webppl_rej_res = WebPPL_accuracy(\"weekend\", \"rejection\", gt[\"weekend\"], 40)\n",
    "webppl_mcmc_res = WebPPL_accuracy(\"weekend\", \"MCMC\", gt[\"weekend\"], 40)\n",
    "psi_res = abs(0.374206175427 - gt[\"weekend\"])\n",
    "psi_res\n",
    "# webppl_rej_res, webppl_mcmc_res\n",
    "# dice_res"
   ]
  },
  {
   "cell_type": "markdown",
   "metadata": {},
   "source": [
    "Zeroone"
   ]
  },
  {
   "cell_type": "code",
   "execution_count": 23,
   "metadata": {},
   "outputs": [
    {
     "name": "stdout",
     "output_type": "stream",
     "text": [
      "23\n",
      "23\n",
      "28\n",
      "28\n"
     ]
    },
    {
     "data": {
      "text/plain": [
       "({'w1': 0.11060480120642063, 'w2': 1.3882137845534663},\n",
       " {'w1': 0.14363805665427146, 'w2': 1.4369325968021713},\n",
       " {'w1': 0.0565823032448, 'w2': 3.68882559517},\n",
       " {'w1': 9.404780036458005e-05, 'w2': 0.00045114577131233347})"
      ]
     },
     "execution_count": 23,
     "metadata": {},
     "output_type": "execute_result"
    }
   ],
   "source": [
    "aqua_res = {}\n",
    "aqua_res[\"w1\"] = AQUA_accuracy(\"zeroone\", \"/space/poorvagarg/PLDI2023/AQUA/benchmarks/stan_bench/zeroone/results.txt\", gt[\"zeroone\"][\"w1\"])\n",
    "aqua_res[\"w2\"] = AQUA_accuracy(\"zeroone\", \"/space/poorvagarg/PLDI2023/AQUA/benchmarks/stan_bench/zeroone/results2.txt\", gt[\"zeroone\"][\"w2\"])\n",
    "\n",
    "dice_res = {}\n",
    "dice_res[\"w1\"] = Dice_accuracy(\"zeroone\", \"/space/poorvagarg/.julia/dev/Dice/benchmarks/zeroone/results.txt\", gt[\"zeroone\"][\"w1\"], 1, (1, 2))\n",
    "dice_res[\"w2\"] = Dice_accuracy(\"zeroone\", \"/space/poorvagarg/.julia/dev/Dice/benchmarks/zeroone/results.txt\", gt[\"zeroone\"][\"w2\"], 1, (2, 2))\n",
    "\n",
    "webppl_rej_res = {}\n",
    "webppl_rej_res[\"w1\"] = WebPPL_accuracy(\"zeroone\", \"rejection\", gt[\"zeroone\"][\"w1\"], 23)\n",
    "webppl_rej_res[\"w2\"] = WebPPL_accuracy(\"zeroone\", \"rejection\", gt[\"zeroone\"][\"w2\"], 23, \"2\")\n",
    "\n",
    "webppl_mcmc_res = {}\n",
    "webppl_mcmc_res[\"w1\"] = WebPPL_accuracy(\"zeroone\", \"MCMC\", gt[\"zeroone\"][\"w1\"], 28)\n",
    "webppl_mcmc_res[\"w2\"] = WebPPL_accuracy(\"zeroone\", \"MCMC\", gt[\"zeroone\"][\"w2\"], 28, \"2\")\n",
    "# webppl_mcmc_res = WebPPL_accuracy(\"altermu2\", \"MCMC\", gt[\"altermu2\"], 24)\n",
    "webppl_rej_res, webppl_mcmc_res, aqua_res, dice_res"
   ]
  },
  {
   "cell_type": "markdown",
   "metadata": {},
   "source": [
    "Conjugate Gaussians"
   ]
  },
  {
   "cell_type": "code",
   "execution_count": 14,
   "metadata": {},
   "outputs": [
    {
     "name": "stdout",
     "output_type": "stream",
     "text": [
      "22\n",
      "23\n"
     ]
    },
    {
     "data": {
      "text/plain": [
       "(0.9999999999999633,\n",
       " 6.130268683790518e-07,\n",
       " 0.00026208112583604346,\n",
       " 0.00031353556624250285)"
      ]
     },
     "execution_count": 14,
     "metadata": {},
     "output_type": "execute_result"
    }
   ],
   "source": [
    "aqua_res = AQUA_accuracy(\"conjugate_gaussians\", \"/space/poorvagarg/PLDI2023/AQUA/benchmarks/new/conjugate_gaussians/results.txt\", gt[\"conjugate_gaussians\"])\n",
    "dice_res = Dice_accuracy(\"conjugate_gaussians\", \"/space/poorvagarg/.julia/dev/Dice/benchmarks/conjugate_gaussians/results.txt\", gt[\"conjugate_gaussians\"], 2, None)\n",
    "webppl_rej_res = WebPPL_accuracy(\"conjugate_gaussians\", \"rejection\", gt[\"conjugate_gaussians\"], 22)\n",
    "webppl_mcmc_res = WebPPL_accuracy(\"conjugate_gaussians\", \"MCMC\", gt[\"conjugate_gaussians\"], 23)\n",
    "aqua_res, dice_res, webppl_rej_res, webppl_mcmc_res"
   ]
  },
  {
   "cell_type": "markdown",
   "metadata": {},
   "source": [
    "Coin Bias"
   ]
  },
  {
   "cell_type": "code",
   "execution_count": 8,
   "metadata": {},
   "outputs": [
    {
     "name": "stdout",
     "output_type": "stream",
     "text": [
      "23\n",
      "30\n"
     ]
    },
    {
     "data": {
      "text/plain": [
       "(0.024688168177129433,\n",
       " 2.0199331252079844e-07,\n",
       " 2.9083181973382776e-05,\n",
       " 8.897515487725771e-05)"
      ]
     },
     "execution_count": 8,
     "metadata": {},
     "output_type": "execute_result"
    }
   ],
   "source": [
    "aqua_res = AQUA_accuracy(\"coinBias\", \"/space/poorvagarg/PLDI2023/AQUA/benchmarks/new/coinBias/results.txt\", gt[\"coinBias\"])\n",
    "dice_res = Dice_accuracy(\"coinBias\", \"/space/poorvagarg/.julia/dev/Dice/benchmarks/coinBias/results.txt\", gt[\"coinBias\"], 2, None)\n",
    "webppl_rej_res = WebPPL_accuracy(\"coinBias\", \"rejection\", gt[\"coinBias\"], 23)\n",
    "webppl_mcmc_res = WebPPL_accuracy(\"coinBias\", \"MCMC\", gt[\"coinBias\"], 30)\n",
    "aqua_res, dice_res, webppl_rej_res, webppl_mcmc_res"
   ]
  },
  {
   "cell_type": "markdown",
   "metadata": {},
   "source": [
    "addFun_sum"
   ]
  },
  {
   "cell_type": "code",
   "execution_count": 7,
   "metadata": {},
   "outputs": [
    {
     "name": "stdout",
     "output_type": "stream",
     "text": [
      "35\n",
      "29\n"
     ]
    },
    {
     "data": {
      "text/plain": [
       "('not supported',\n",
       " 1.9069595883283734e-06,\n",
       " 0.00043933282192057713,\n",
       " 0.0013549799643079996)"
      ]
     },
     "execution_count": 7,
     "metadata": {},
     "output_type": "execute_result"
    }
   ],
   "source": [
    "benchmark = \"addFun_sum\"\n",
    "# aqua_res = AQUA_accuracy(benchmark, \"/space/poorvagarg/PLDI2023/AQUA/benchmarks/new/\" + benchmark + \"/results.txt\", gt[benchmark])\n",
    "aqua_res = \"not supported\"\n",
    "dice_res = Dice_accuracy(benchmark, \"/space/poorvagarg/.julia/dev/Dice/benchmarks/\" + benchmark + \"/results.txt\", gt[benchmark], 2, None)\n",
    "webppl_rej_res = WebPPL_accuracy(benchmark, \"rejection\", gt[benchmark], 35)\n",
    "webppl_mcmc_res = WebPPL_accuracy(benchmark, \"MCMC\", gt[benchmark], 29)\n",
    "aqua_res, dice_res, webppl_rej_res, webppl_mcmc_res"
   ]
  },
  {
   "cell_type": "markdown",
   "metadata": {},
   "source": [
    "clickGraph"
   ]
  },
  {
   "cell_type": "code",
   "execution_count": 13,
   "metadata": {},
   "outputs": [
    {
     "data": {
      "text/plain": [
       "('not supported', 0.0017536990456937795, 'timeout', 'trace not initialized')"
      ]
     },
     "execution_count": 13,
     "metadata": {},
     "output_type": "execute_result"
    }
   ],
   "source": [
    "benchmark = \"clickGraph\"\n",
    "# aqua_res = AQUA_accuracy(benchmark, \"/space/poorvagarg/PLDI2023/AQUA/benchmarks/new/\" + benchmark + \"/results.txt\", gt[benchmark])\n",
    "aqua_res = \"not supported\"\n",
    "dice_res = Dice_accuracy(benchmark, \"/space/poorvagarg/.julia/dev/Dice/benchmarks/\" + benchmark + \"/results.txt\", gt[benchmark], 1, None)\n",
    "# webppl_rej_res = WebPPL_accuracy(benchmark, \"rejection\", gt[benchmark], 40)\n",
    "# webppl_mcmc_res = WebPPL_accuracy(benchmark, \"MCMC\", gt[benchmark], 40)\n",
    "webppl_rej_res = \"timeout\"\n",
    "webppl_mcmc_res = \"trace not initialized\"\n",
    "aqua_res, dice_res, webppl_rej_res, webppl_mcmc_res\n"
   ]
  },
  {
   "cell_type": "markdown",
   "metadata": {},
   "source": [
    "addFun_max"
   ]
  },
  {
   "cell_type": "code",
   "execution_count": 6,
   "metadata": {},
   "outputs": [
    {
     "name": "stdout",
     "output_type": "stream",
     "text": [
      "28\n",
      "26\n"
     ]
    },
    {
     "data": {
      "text/plain": [
       "('not supported',\n",
       " 5.197713459526021e-06,\n",
       " 0.00037994532806447936,\n",
       " 0.00032306835680979696)"
      ]
     },
     "execution_count": 6,
     "metadata": {},
     "output_type": "execute_result"
    }
   ],
   "source": [
    "benchmark = \"addFun_max\"\n",
    "# aqua_res = AQUA_accuracy(benchmark, \"/space/poorvagarg/PLDI2023/AQUA/benchmarks/new/\" + benchmark + \"/results.txt\", gt[benchmark])\n",
    "aqua_res = \"not supported\"\n",
    "dice_res = Dice_accuracy(benchmark, \"/space/poorvagarg/.julia/dev/Dice/benchmarks/\" + benchmark + \"/results.txt\", gt[benchmark], 2, None)\n",
    "webppl_rej_res = WebPPL_accuracy(benchmark, \"rejection\", gt[benchmark], 28)\n",
    "webppl_mcmc_res = WebPPL_accuracy(benchmark, \"MCMC\", gt[benchmark], 26)\n",
    "aqua_res, dice_res, webppl_rej_res, webppl_mcmc_res"
   ]
  },
  {
   "cell_type": "markdown",
   "metadata": {},
   "source": [
    "clinicalTrial2"
   ]
  },
  {
   "cell_type": "code",
   "execution_count": 9,
   "metadata": {},
   "outputs": [
    {
     "name": "stdout",
     "output_type": "stream",
     "text": [
      "2\n",
      "2\n"
     ]
    },
    {
     "data": {
      "text/plain": [
       "('not supported', 1.7029900567511191e-07, 1000000000, 0.2142857142857143)"
      ]
     },
     "execution_count": 9,
     "metadata": {},
     "output_type": "execute_result"
    }
   ],
   "source": [
    "benchmark = \"clinicalTrial2\"\n",
    "# aqua_res = AQUA_accuracy(benchmark, \"/space/poorvagarg/PLDI2023/AQUA/benchmarks/new/\" + benchmark + \"/results.txt\", gt[benchmark])\n",
    "aqua_res = \"not supported\"\n",
    "dice_res = Dice_accuracy(benchmark, \"/space/poorvagarg/.julia/dev/Dice/benchmarks/\" + benchmark + \"/results.txt\", gt[benchmark], 1, None)\n",
    "webppl_rej_res = WebPPL_accuracy(benchmark, \"rejection\", gt[benchmark], 2)\n",
    "webppl_mcmc_res = WebPPL_accuracy(benchmark, \"MCMC\", gt[benchmark], 2)\n",
    "aqua_res, dice_res, webppl_rej_res, webppl_mcmc_res"
   ]
  },
  {
   "cell_type": "markdown",
   "metadata": {},
   "source": [
    "clinicalTrial1"
   ]
  },
  {
   "cell_type": "code",
   "execution_count": 13,
   "metadata": {},
   "outputs": [
    {
     "name": "stdout",
     "output_type": "stream",
     "text": [
      "1\n",
      "1\n"
     ]
    },
    {
     "data": {
      "text/plain": [
       "('not supported', 5.273559366969494e-16, 1000000000, 1000000000)"
      ]
     },
     "execution_count": 13,
     "metadata": {},
     "output_type": "execute_result"
    }
   ],
   "source": [
    "benchmark = \"clinicalTrial1\"\n",
    "# aqua_res = AQUA_accuracy(benchmark, \"/space/poorvagarg/PLDI2023/AQUA/benchmarks/new/\" + benchmark + \"/results.txt\", gt[benchmark])\n",
    "aqua_res = \"not supported\"\n",
    "dice_res = Dice_accuracy(benchmark, \"/space/poorvagarg/.julia/dev/Dice/benchmarks/\" + benchmark + \"/results.txt\", gt[benchmark], 1, None)\n",
    "webppl_rej_res = WebPPL_accuracy(benchmark, \"rejection\", gt[benchmark], 1)\n",
    "webppl_mcmc_res = WebPPL_accuracy(benchmark, \"MCMC\", gt[benchmark], 1)\n",
    "aqua_res, dice_res, webppl_rej_res, webppl_mcmc_res"
   ]
  },
  {
   "cell_type": "markdown",
   "metadata": {},
   "source": [
    "Trueskill"
   ]
  },
  {
   "cell_type": "code",
   "execution_count": 8,
   "metadata": {},
   "outputs": [
    {
     "name": "stdout",
     "output_type": "stream",
     "text": [
      "24\n",
      "26\n"
     ]
    },
    {
     "data": {
      "text/plain": [
       "('not supported',\n",
       " 0.0006400222679264211,\n",
       " 0.00010489225387573242,\n",
       " 0.00026479363441467285)"
      ]
     },
     "execution_count": 8,
     "metadata": {},
     "output_type": "execute_result"
    }
   ],
   "source": [
    "benchmark = \"trueskill\"\n",
    "# aqua_res = AQUA_accuracy(benchmark, \"/space/poorvagarg/PLDI2023/AQUA/benchmarks/new/\" + benchmark + \"/results.txt\", gt[benchmark])\n",
    "aqua_res = \"not supported\"\n",
    "dice_res = Dice_accuracy(benchmark, \"/space/poorvagarg/.julia/dev/Dice/benchmarks/\" + benchmark + \"/results.txt\", gt[benchmark], 2, None)\n",
    "webppl_rej_res = WebPPL_accuracy(benchmark, \"rejection\", gt[benchmark], 24)\n",
    "webppl_mcmc_res = WebPPL_accuracy(benchmark, \"MCMC\", gt[benchmark], 26)\n",
    "aqua_res, dice_res, webppl_rej_res, webppl_mcmc_res"
   ]
  },
  {
   "cell_type": "code",
   "execution_count": null,
   "metadata": {},
   "outputs": [],
   "source": []
  }
 ],
 "metadata": {
  "interpreter": {
   "hash": "8e939beeb8908a748a237841990861d73cef1b3627da5d7bd00eded51fc11630"
  },
  "kernelspec": {
   "display_name": "Python 3.9.12 ('base')",
   "language": "python",
   "name": "python3"
  },
  "language_info": {
   "codemirror_mode": {
    "name": "ipython",
    "version": 3
   },
   "file_extension": ".py",
   "mimetype": "text/x-python",
   "name": "python",
   "nbconvert_exporter": "python",
   "pygments_lexer": "ipython3",
   "version": "3.9.12"
  },
  "orig_nbformat": 4
 },
 "nbformat": 4,
 "nbformat_minor": 2
}
